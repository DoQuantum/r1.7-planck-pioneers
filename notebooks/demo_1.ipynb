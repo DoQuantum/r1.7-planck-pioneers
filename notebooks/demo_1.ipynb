{
  "cells": [
    {
      "cell_type": "code",
      "execution_count": null,
      "metadata": {},
      "outputs": [],
      "source": [
        "%pip install transformers, torch, numpy, matplotlib, seaborn"
      ]
    },
    {
      "cell_type": "markdown",
      "metadata": {},
      "source": [
        "# Attention Mechanisms with Real Token Embeddings and Transformers\n",
        "\n",
        "This notebook extends the previous conceptual explanation by incorporating **real token embeddings** and demonstrating how **attention mechanisms** (dense and sparse) are used in an actual Transformer model.\n",
        "\n",
        "You will learn:\n",
        "- How token embeddings are generated from real text using a BERT tokenizer\n",
        "- How dense attention works using these embeddings\n",
        "- How to simulate sparse attention on embeddings\n",
        "- How to pass data through a pretrained BERT model and inspect its attention weights\n"
      ]
    },
    {
      "cell_type": "markdown",
      "metadata": {},
      "source": [
        "## 1. Tokenization and Real Embeddings\n",
        "We will use Hugging Face's Transformers library to tokenize text and extract token embeddings from BERT.\n",
        "\n",
        "**Common special tokens include:**\n",
        "- `[CLS]`: A classification token added at the beginning of every sequence. Its final hidden state is often used as a summary representation for classification tasks.\n",
        "- `[SEP]`: A separator token used to distinguish between two sentences or segments in tasks like question answering or next sentence prediction.\n",
        "- `[PAD]`: A padding token used to make sequences the same length in a batch. It tells the model to ignore these tokens during attention and loss computation.\n",
        "- `[MASK]`: Used in masked language modeling (e.g., during BERT pretraining). It indicates which token is masked and should be predicted by the model.\n",
        "\n",
        "    These tokens are embedded just like regular words but carry special meaning in how the model interprets and attends to the input.\n",
        "\n",
        "**Question: What are embeddings?**\n",
        "Embeddings are vector representations of words or tokens that capture semantic meaning. In BERT, the embedding layer turns each token into a 768-dimensional vector (for BERT-base).\n"
      ]
    },
    {
      "cell_type": "code",
      "execution_count": null,
      "metadata": {},
      "outputs": [
        {
          "name": "stderr",
          "output_type": "stream",
          "text": [
            "BertSdpaSelfAttention is used but `torch.nn.functional.scaled_dot_product_attention` does not support non-absolute `position_embedding_type` or `output_attentions=True` or `head_mask`. Falling back to the manual attention implementation, but specifying the manual implementation will be required from Transformers version v5.0.0 onwards. This warning can be removed using the argument `attn_implementation=\"eager\"` when loading the model.\n"
          ]
        },
        {
          "name": "stdout",
          "output_type": "stream",
          "text": [
            "Tokens: ['[CLS]', 'the', 'cat', 'sat', 'on', 'the', 'mat', '.', '[SEP]']\n",
            "Embeddings shape: torch.Size([9, 768])\n"
          ]
        }
      ],
      "source": [
        "from transformers import BertTokenizer, BertModel\n",
        "import torch\n",
        "import numpy as np\n",
        "import matplotlib.pyplot as plt\n",
        "import seaborn as sns\n",
        "\n",
        "# Load tokenizer and model\n",
        "tokenizer = BertTokenizer.from_pretrained('bert-base-uncased')\n",
        "model = BertModel.from_pretrained('bert-base-uncased', output_attentions=True)\n",
        "model.eval()\n",
        "\n",
        "# Sample sentence\n",
        "sentence = \"The cat sat on the mat.\"\n",
        "inputs = tokenizer(sentence, return_tensors='pt')\n",
        "with torch.no_grad():\n",
        "    outputs = model(**inputs)\n",
        "    embeddings = outputs.last_hidden_state.squeeze(0)  # (seq_len, hidden_dim)\n",
        "    attentions = outputs.attentions  # list of attention matrices from all layers\n",
        "\n",
        "tokens = tokenizer.convert_ids_to_tokens(inputs['input_ids'][0])\n",
        "print(f\"Tokens: {tokens}\")\n",
        "print(f\"Embeddings shape: {embeddings.shape}\")"
      ]
    },
    {
      "cell_type": "markdown",
      "metadata": {},
      "source": [
        "## 2. Visualizing Real Dense Attention\n",
        "BERT uses multi-head self-attention. We'll visualize one head from the first layer.\n",
        "\n",
        "**Question: What is multi-head attention?**\n",
        "Instead of one attention mechanism, BERT uses multiple parallel heads (e.g., 12 in BERT-base), each learning to focus on different aspects.\n"
      ]
    },
    {
      "cell_type": "code",
      "execution_count": null,
      "metadata": {},
      "outputs": [
        {
          "data": {
            "image/png": "[encoded data removed]",
            "text/plain": [
              "<Figure size 600x500 with 2 Axes>"
            ]
          },
          "metadata": {},
          "output_type": "display_data"
        }
      ],
      "source": [
        "# Extract attention from layer 0, head 0\n",
        "attn_matrix = attentions[0][0, 0].numpy()  # (seq_len, seq_len)\n",
        "\n",
        "# Plot\n",
        "plt.figure(figsize=(6, 5))\n",
        "sns.heatmap(attn_matrix, xticklabels=tokens, yticklabels=tokens, cmap=\"Blues\", annot=False)\n",
        "plt.title(\"BERT Dense Attention (Layer 0, Head 0)\")\n",
        "plt.show()"
      ]
    },
    {
      "cell_type": "markdown",
      "metadata": {},
      "source": [
        "## 2.1 Understanding Layers and Attention Heads in BERT\n",
        "\n",
        "To understand how attention works in BERT, it's important to know how the model is structured internally. BERT is made up of multiple layers, and each layer contains multiple attention heads."
      ]
    },
    {
      "cell_type": "markdown",
      "metadata": {},
      "source": [
        "## 3. Simulating Sparse Attention\n",
        "We will mask out parts of the attention matrix to simulate a sparse attention pattern (e.g., sliding window).\n",
        "\n",
        "**Note**: This does not re-run BERT with sparse attention, but it helps conceptually understand how sparse patterns work.\n"
      ]
    },
    {
      "cell_type": "code",
      "execution_count": null,
      "metadata": {},
      "outputs": [
        {
          "data": {
            "image/png": "[encoded data removed]",
            "text/plain": [
              "<Figure size 600x500 with 2 Axes>"
            ]
          },
          "metadata": {},
          "output_type": "display_data"
        }
      ],
      "source": [
        "# Simulate sparse attention by masking\n",
        "def apply_sparse_mask(attn, window_size=2):\n",
        "    n = attn.shape[0]\n",
        "    mask = np.zeros_like(attn)\n",
        "    for i in range(n):\n",
        "        for j in range(max(0, i - window_size), min(n, i + window_size + 1)):\n",
        "            mask[i, j] = 1\n",
        "    return attn * mask\n",
        "\n",
        "sparse_attn = apply_sparse_mask(attn_matrix, window_size=2)\n",
        "sparse_attn /= sparse_attn.sum(axis=1, keepdims=True)  # Renormalize\n",
        "\n",
        "plt.figure(figsize=(6, 5))\n",
        "sns.heatmap(sparse_attn, xticklabels=tokens, yticklabels=tokens, cmap=\"Oranges\", annot=False)\n",
        "plt.title(\"Simulated Sparse Attention (Window Size = 2)\")\n",
        "plt.show()"
      ]
    },
    {
      "cell_type": "markdown",
      "metadata": {},
      "source": [
        "## 4. Summary and Use Cases\n",
        "- We used real BERT token embeddings and attention matrices.\n",
        "- Dense attention allows full context but is costly.\n",
        "- Sparse attention reduces cost by limiting which tokens attend to which.\n",
        "- Useful for long documents, streaming input, and memory-efficient training.\n",
        "\n",
        "**Question: Can we actually train BERT with sparse attention?**\n",
        "Yes. Frameworks like Longformer, BigBird, and custom sparse BERT variants support this. They replace the full attention layers with custom sparse versions and compare results.\n"
      ]
    },
    {
      "cell_type": "code",
      "execution_count": null,
      "metadata": {},
      "outputs": [],
      "source": []
    },
    {
      "cell_type": "markdown",
      "metadata": {},
      "source": [
        "# Exploring BERT Attention: From Interpretation to Fine-Tuning\n",
        "\n",
        "In this notebook, we will **explore how BERT uses attention mechanisms** to understand text, without diving straight into training. We’ll:\n",
        "\n",
        "1. **Visualize BERT's attention heads**: What do they attend to? Are there patterns at different layers?\n",
        "2. **Fine-tune the last attention layer and a classifier** on the IMDB sentiment dataset.\n",
        "3. **Compare attention before and after fine-tuning** to observe how attention adapts during learning."
      ]
    },
    {
      "cell_type": "markdown",
      "metadata": {},
      "source": [
        "## 1 🔍 Understanding Pretrained Attention\n",
        "\n",
        "BERT uses **multi-layer, multi-head self-attention** to understand relationships between tokens.  \n",
        "Each layer in BERT contains multiple attention heads — and each head might focus on different aspects:\n",
        "\n",
        "- Syntactic roles (e.g., subject → verb)\n",
        "- Semantic similarity (e.g., synonyms)\n",
        "- Special tokens ([CLS], [SEP], etc.)\n",
        "\n",
        "### 📌 Objective\n",
        "\n",
        "In this section, we will:\n",
        "\n",
        "- Load a **lightweight, distilled BERT** model (xtremedistil) for faster visualization.  \n",
        "- Pass a sentence through the model.  \n",
        "- Visualize and compare the **attention maps** at **different layers** and **heads**.  \n",
        "This will help us intuitively understand how BERT processes and attends to the input text.\n",
        "\n",
        "Let’s begin by loading the model and tokenizer!"
      ]
    },
    {
      "cell_type": "code",
      "execution_count": null,
      "metadata": {},
      "outputs": [
        {
          "data": {
            "text/plain": [
              "BertModel(\n",
              "  (embeddings): BertEmbeddings(\n",
              "    (word_embeddings): Embedding(30522, 256, padding_idx=0)\n",
              "    (position_embeddings): Embedding(512, 256)\n",
              "    (token_type_embeddings): Embedding(2, 256)\n",
              "    (LayerNorm): LayerNorm((256,), eps=1e-12, elementwise_affine=True)\n",
              "    (dropout): Dropout(p=0.1, inplace=False)\n",
              "  )\n",
              "  (encoder): BertEncoder(\n",
              "    (layer): ModuleList(\n",
              "      (0-5): 6 x BertLayer(\n",
              "        (attention): BertAttention(\n",
              "          (self): BertSdpaSelfAttention(\n",
              "            (query): Linear(in_features=256, out_features=256, bias=True)\n",
              "            (key): Linear(in_features=256, out_features=256, bias=True)\n",
              "            (value): Linear(in_features=256, out_features=256, bias=True)\n",
              "            (dropout): Dropout(p=0.1, inplace=False)\n",
              "          )\n",
              "          (output): BertSelfOutput(\n",
              "            (dense): Linear(in_features=256, out_features=256, bias=True)\n",
              "            (LayerNorm): LayerNorm((256,), eps=1e-12, elementwise_affine=True)\n",
              "            (dropout): Dropout(p=0.1, inplace=False)\n",
              "          )\n",
              "        )\n",
              "        (intermediate): BertIntermediate(\n",
              "          (dense): Linear(in_features=256, out_features=1024, bias=True)\n",
              "          (intermediate_act_fn): GELUActivation()\n",
              "        )\n",
              "        (output): BertOutput(\n",
              "          (dense): Linear(in_features=1024, out_features=256, bias=True)\n",
              "          (LayerNorm): LayerNorm((256,), eps=1e-12, elementwise_affine=True)\n",
              "          (dropout): Dropout(p=0.1, inplace=False)\n",
              "        )\n",
              "      )\n",
              "    )\n",
              "  )\n",
              "  (pooler): BertPooler(\n",
              "    (dense): Linear(in_features=256, out_features=256, bias=True)\n",
              "    (activation): Tanh()\n",
              "  )\n",
              ")"
            ]
          },
          "execution_count": 2,
          "metadata": {},
          "output_type": "execute_result"
        }
      ],
      "source": [
        "# Step 1: Load BERT model and tokenizer (xtremedistil for speed)\n",
        "\n",
        "from transformers import AutoTokenizer, AutoModel, AutoConfig\n",
        "import torch\n",
        "\n",
        "# Load tokenizer and model\n",
        "model_name = \"microsoft/xtremedistil-l6-h256-uncased\"\n",
        "tokenizer = AutoTokenizer.from_pretrained(model_name)\n",
        "config = AutoConfig.from_pretrained(model_name, output_attentions=True)\n",
        "model = AutoModel.from_pretrained(model_name, config=config)\n",
        "\n",
        "model.eval()"
      ]
    },
    {
      "cell_type": "markdown",
      "metadata": {},
      "source": [
        "### 🔧 Step 2: Tokenize Input and Extract Attention Weights\n",
        "\n",
        "Now that we've loaded our distilled BERT model and tokenizer, let's walk through the process of running a sentence through the model and capturing its **attention weights**.\n",
        "\n",
        "#### 🔍 Line-by-line Explanation\n",
        "\n",
        "1. We define a test sentence. Our goal is to understand how BERT internally pays attention across these words.\n",
        "2. We tokenize the sentence into input IDs and attention masks, and return them as PyTorch tensors (required for BERT).\n",
        "3. We pass the inputs to the model inside a `torch.no_grad()` block — since we're just doing inference and don't need gradients.\n",
        "\n",
        "We collect the attention weights for each layer (BERT returns them as a tuple). Each element contains one layer's attention of shape:\n",
        "- `batch_size = 1` (since it's one sentence)\n",
        "- `num_heads = 8`\n",
        "- `seq_len = number of tokens` (e.g., 13 if including special tokens)\n",
        "    \n",
        "So we end up with: `torch.Size([6, 1, 8, seq_len, seq_len])`"
      ]
    },
    {
      "cell_type": "code",
      "execution_count": null,
      "metadata": {},
      "outputs": [
        {
          "name": "stderr",
          "output_type": "stream",
          "text": [
            "BertSdpaSelfAttention is used but `torch.nn.functional.scaled_dot_product_attention` does not support non-absolute `position_embedding_type` or `output_attentions=True` or `head_mask`. Falling back to the manual attention implementation, but specifying the manual implementation will be required from Transformers version v5.0.0 onwards. This warning can be removed using the argument `attn_implementation=\"eager\"` when loading the model.\n"
          ]
        },
        {
          "data": {
            "text/plain": [
              "torch.Size([6, 1, 8, 13, 13])"
            ]
          },
          "execution_count": 3,
          "metadata": {},
          "output_type": "execute_result"
        }
      ],
      "source": [
        "sentence = \"The movie was surprisingly good, I really enjoyed it!\"\n",
        "inputs = tokenizer(sentence, return_tensors=\"pt\")\n",
        "\n",
        "# Forward pass with attentions\n",
        "with torch.no_grad():\n",
        "    outputs = model(**inputs)\n",
        "\n",
        "# Extract attention weights\n",
        "# shape: (num_layers, batch, num_heads, seq_len, seq_len)\n",
        "attentions = torch.stack(outputs.attentions)  # 6 layers\n",
        "attentions.shape"
      ]
    },
    {
      "cell_type": "markdown",
      "metadata": {},
      "source": [
        "### 🧠 Step 3: Inspect Attention Tensor Dimensions and Tokens\n",
        "\n",
        "Now that we’ve extracted the attention weights, let’s understand **what we’re working with**.\n",
        "\n",
        "We want to:\n",
        "\n",
        "1. **Verify** the shape of the attention tensor.\n",
        "2. **List the input tokens** (as BERT sees them).\n",
        "3. **Understand** what each axis of the attention tensor means.\n",
        "\n",
        "#### Attention Shape Breakdown\n",
        "\n",
        "- `attentions.shape → (num_layers, batch, num_heads, seq_len, seq_len)`\n",
        "- Each matrix inside has shape `(seq_len, seq_len)`:\n",
        "  - **Rows** are *query positions* (i.e., \"who is attending\")\n",
        "  - **Columns** are *key positions* (i.e., \"who is being attended to\")\n",
        "\n",
        "We'll also print the actual BERT tokens so we can interpret the matrices meaningfully.\n"
      ]
    },
    {
      "cell_type": "code",
      "execution_count": null,
      "metadata": {},
      "outputs": [
        {
          "name": "stdout",
          "output_type": "stream",
          "text": [
            "Layers: 6, Heads: 8, Tokens: 13\n",
            "\n",
            "BERT tokens:\n",
            "['[CLS]', 'the', 'movie', 'was', 'surprisingly', 'good', ',', 'i', 'really', 'enjoyed', 'it', '!', '[SEP]']\n"
          ]
        }
      ],
      "source": [
        "# Unpack attention tensor dimensions\n",
        "num_layers, batch_size, num_heads, seq_len, _ = attentions.shape\n",
        "print(f\"Layers: {num_layers}, Heads: {num_heads}, Tokens: {seq_len}\")\n",
        "\n",
        "# Decode tokens\n",
        "tokens = tokenizer.convert_ids_to_tokens(inputs[\"input_ids\"][0])\n",
        "print(\"\\nBERT tokens:\")\n",
        "print(tokens)"
      ]
    },
    {
      "cell_type": "markdown",
      "metadata": {},
      "source": [
        "### 🎨 Step 4: Visualize Attention Across All Heads in a Layer\n",
        "\n",
        "Now that we understand the attention tensor structure and the tokens, let’s **visualize how each head behaves in a given layer**.\n",
        "\n",
        "Instead of just picking one head, we’ll look at **all attention heads** in a chosen layer using a grid of heatmaps.\n",
        "\n",
        "#### 🔍 What This Visualization Shows\n",
        "\n",
        "- Each subplot represents the attention matrix of **one head** in the selected layer.\n",
        "- The matrix shows how each token attends to every other token.\n",
        "- **Rows** = queries (the attending token),  \n",
        "  **Columns** = keys (the token being attended to).\n",
        "- Color intensity indicates attention strength.\n",
        "\n",
        "#### 🎛 Interactive Tool\n",
        "\n",
        "You can use a slider to choose the layer you want to inspect.  \n",
        "This allows you to see **how attention patterns evolve across BERT layers** — some attend broadly, others sharply focus on key tokens like `[CLS]`, verbs, or punctuation.\n",
        "\n",
        "Let’s run the interactive tool!"
      ]
    },
    {
      "cell_type": "code",
      "execution_count": null,
      "metadata": {},
      "outputs": [
        {
          "name": "stdout",
          "output_type": "stream",
          "text": [
            "Collecting ipywidgets\n",
            "  Downloading ipywidgets-8.1.7-py3-none-any.whl.metadata (2.4 kB)\n",
            "Requirement already satisfied: comm>=0.1.3 in c:\\users\\evren\\anaconda3\\envs\\planckteam\\lib\\site-packages (from ipywidgets) (0.2.2)\n",
            "Requirement already satisfied: ipython>=6.1.0 in c:\\users\\evren\\anaconda3\\envs\\planckteam\\lib\\site-packages (from ipywidgets) (9.3.0)\n",
            "Requirement already satisfied: traitlets>=4.3.1 in c:\\users\\evren\\anaconda3\\envs\\planckteam\\lib\\site-packages (from ipywidgets) (5.14.3)\n",
            "Collecting widgetsnbextension~=4.0.14 (from ipywidgets)\n",
            "  Downloading widgetsnbextension-4.0.14-py3-none-any.whl.metadata (1.6 kB)\n",
            "Collecting jupyterlab_widgets~=3.0.15 (from ipywidgets)\n",
            "  Downloading jupyterlab_widgets-3.0.15-py3-none-any.whl.metadata (20 kB)\n",
            "Requirement already satisfied: colorama in c:\\users\\evren\\anaconda3\\envs\\planckteam\\lib\\site-packages (from ipython>=6.1.0->ipywidgets) (0.4.6)\n",
            "Requirement already satisfied: decorator in c:\\users\\evren\\anaconda3\\envs\\planckteam\\lib\\site-packages (from ipython>=6.1.0->ipywidgets) (5.2.1)\n",
            "Requirement already satisfied: ipython-pygments-lexers in c:\\users\\evren\\anaconda3\\envs\\planckteam\\lib\\site-packages (from ipython>=6.1.0->ipywidgets) (1.1.1)\n",
            "Requirement already satisfied: jedi>=0.16 in c:\\users\\evren\\anaconda3\\envs\\planckteam\\lib\\site-packages (from ipython>=6.1.0->ipywidgets) (0.19.2)\n",
            "Requirement already satisfied: matplotlib-inline in c:\\users\\evren\\anaconda3\\envs\\planckteam\\lib\\site-packages (from ipython>=6.1.0->ipywidgets) (0.1.7)\n",
            "Requirement already satisfied: prompt_toolkit<3.1.0,>=3.0.41 in c:\\users\\evren\\anaconda3\\envs\\planckteam\\lib\\site-packages (from ipython>=6.1.0->ipywidgets) (3.0.51)\n",
            "Requirement already satisfied: pygments>=2.4.0 in c:\\users\\evren\\anaconda3\\envs\\planckteam\\lib\\site-packages (from ipython>=6.1.0->ipywidgets) (2.19.1)\n",
            "Requirement already satisfied: stack_data in c:\\users\\evren\\anaconda3\\envs\\planckteam\\lib\\site-packages (from ipython>=6.1.0->ipywidgets) (0.6.3)\n",
            "Requirement already satisfied: wcwidth in c:\\users\\evren\\anaconda3\\envs\\planckteam\\lib\\site-packages (from prompt_toolkit<3.1.0,>=3.0.41->ipython>=6.1.0->ipywidgets) (0.2.13)\n",
            "Requirement already satisfied: parso<0.9.0,>=0.8.4 in c:\\users\\evren\\anaconda3\\envs\\planckteam\\lib\\site-packages (from jedi>=0.16->ipython>=6.1.0->ipywidgets) (0.8.4)\n",
            "Requirement already satisfied: executing>=1.2.0 in c:\\users\\evren\\anaconda3\\envs\\planckteam\\lib\\site-packages (from stack_data->ipython>=6.1.0->ipywidgets) (2.2.0)\n",
            "Requirement already satisfied: asttokens>=2.1.0 in c:\\users\\evren\\anaconda3\\envs\\planckteam\\lib\\site-packages (from stack_data->ipython>=6.1.0->ipywidgets) (3.0.0)\n",
            "Requirement already satisfied: pure_eval in c:\\users\\evren\\anaconda3\\envs\\planckteam\\lib\\site-packages (from stack_data->ipython>=6.1.0->ipywidgets) (0.2.3)\n",
            "Downloading ipywidgets-8.1.7-py3-none-any.whl (139 kB)\n",
            "Downloading jupyterlab_widgets-3.0.15-py3-none-any.whl (216 kB)\n",
            "Downloading widgetsnbextension-4.0.14-py3-none-any.whl (2.2 MB)\n",
            "   ---------------------------------------- 0.0/2.2 MB ? eta -:--:--\n",
            "   ---------------------------------------- 2.2/2.2 MB 16.5 MB/s eta 0:00:00\n",
            "Installing collected packages: widgetsnbextension, jupyterlab_widgets, ipywidgets\n",
            "\n",
            "   -------------------------- ------------- 2/3 [ipywidgets]\n",
            "   -------------------------- ------------- 2/3 [ipywidgets]\n",
            "   ---------------------------------------- 3/3 [ipywidgets]\n",
            "\n",
            "Successfully installed ipywidgets-8.1.7 jupyterlab_widgets-3.0.15 widgetsnbextension-4.0.14\n",
            "Note: you may need to restart the kernel to use updated packages.\n"
          ]
        }
      ],
      "source": [
        "%pip install ipywidgets"
      ]
    },
    {
      "cell_type": "code",
      "execution_count": null,
      "metadata": {},
      "outputs": [
        {
          "name": "stdout",
          "output_type": "stream",
          "text": [
            "Created dictionary with 6 layers\n"
          ]
        },
        {
          "data": {
            "application/vnd.jupyter.widget-view+json": {
              "model_id": "4cf5b55df177484683cd050eb10e29bc",
              "version_major": 2,
              "version_minor": 0
            },
            "text/plain": [
              "interactive(children=(IntSlider(value=0, description='layer', max=5), Output()), _dom_classes=('widget-interac…"
            ]
          },
          "metadata": {},
          "output_type": "display_data"
        }
      ],
      "source": [
        "import matplotlib.pyplot as plt\n",
        "import seaborn as sns\n",
        "import torch\n",
        "import numpy as np\n",
        "from ipywidgets import interact, IntSlider\n",
        "\n",
        "def extract_attention_by_layers(attention_matrix):\n",
        "    \"\"\"Extract attention into a dictionary by layers.\"\"\"\n",
        "    num_layers = attention_matrix.shape[0]\n",
        "    attention_by_layer = {}\n",
        "    \n",
        "    for layer in range(num_layers):\n",
        "        # Store all heads for this layer\n",
        "        attention_by_layer[f\"layer_{layer}\"] = attention_matrix[layer].detach().clone()\n",
        "    \n",
        "    return attention_by_layer\n",
        "\n",
        "def plot_all_heads_in_layer(tokens, attention_matrix, layer=0, num_heads=None):\n",
        "    if num_heads is None:\n",
        "        num_heads = attention_matrix.shape[2]  # Get number of heads\n",
        "    \n",
        "    fig, axes = plt.subplots(nrows=int(np.ceil(num_heads/4)), ncols=min(4, num_heads), \n",
        "                           figsize=(16, 3*int(np.ceil(num_heads/4))))\n",
        "    axes = axes.flatten() if hasattr(axes, 'flatten') else [axes]\n",
        "    \n",
        "    for head_idx in range(num_heads):\n",
        "        attn = attention_matrix[layer, 0, head_idx].detach().numpy()\n",
        "        ax = axes[head_idx]\n",
        "        sns.heatmap(attn, xticklabels=tokens, yticklabels=tokens, \n",
        "                   cmap=\"viridis\", ax=ax, cbar=False)\n",
        "        ax.set_title(f\"Head {head_idx}\")\n",
        "        ax.set_xlabel(\"\")\n",
        "        ax.set_ylabel(\"\")\n",
        "        ax.set_xticklabels(ax.get_xticklabels(), rotation=90)\n",
        "        ax.set_yticklabels(ax.get_yticklabels(), rotation=0)\n",
        "    \n",
        "    # Add a common colorbar\n",
        "    cbar_ax = fig.add_axes([0.92, 0.15, 0.02, 0.7])\n",
        "    fig.colorbar(axes[0].collections[0], cax=cbar_ax)\n",
        "    \n",
        "    plt.suptitle(f\"All Attention Heads in Layer {layer}\", fontsize=16)\n",
        "    plt.tight_layout(rect=[0, 0, 0.9, 0.95])\n",
        "    return fig\n",
        "\n",
        "def interactive_layer_attention(tokens, attention_matrix):\n",
        "    num_layers = attention_matrix.shape[0]\n",
        "    \n",
        "    # Create dictionary with attention by layers\n",
        "    attention_by_layer = extract_attention_by_layers(attention_matrix)\n",
        "    print(f\"Created dictionary with {len(attention_by_layer)} layers\")\n",
        "    \n",
        "    @interact(layer=IntSlider(min=0, max=num_layers-1, step=1, value=0))\n",
        "    def update(layer):\n",
        "        plot_all_heads_in_layer(tokens, attention_matrix, layer)\n",
        "        \n",
        "    return attention_by_layer\n",
        "\n",
        "# Usage:\n",
        "attention_dict = interactive_layer_attention(tokens, attentions)"
      ]
    },
    {
      "cell_type": "markdown",
      "metadata": {},
      "source": [
        "### 🧠 Key Takeaways — Layer 0 Attention Patterns\n",
        "\n",
        "In Layer 0 of the xtremedistil BERT model, attention heads show **foundational patterns** that prepare for deeper semantic understanding. Here's a **summary** of what each head is doing:\n",
        "\n",
        "---\n",
        "\n",
        "#### 🔹 **Diagonal / Identity Heads**  \n",
        "Preserve each token's representation by mostly attending to itself.  \n",
        "- **Head 0** – strong self-attention\n",
        "\n",
        "#### 🔸 **Directional / Sequential Heads**  \n",
        "Focus on tokens nearby in sequence — useful for grammar and structure.  \n",
        "- **Head 3** – strong previous-token pattern --> attends to **previous token**  \n",
        "- **Head 5** – strong next-token pattern --> attends to **next token**\n",
        "\n",
        "#### 🔻 **Sparse / Focused Heads**  \n",
        "Attend to a few specific tokens (e.g., sentiment words or key phrases). \n",
        "- **Head 1** – All words attending [CLS] and [SEP]\n",
        "- **Head 2** – sparse attention (few strong connections and especially on movie)  \n",
        "- **Head 7** – focuses around the diagonal linking nouns, verbs and adjectives from the same part of the sentence\n",
        "- **Head 4** – [SEP] and [surprisingly] attended broadly  \n",
        "- **Head 6** – [CLS] attended broadly\n",
        "\n",
        "These patterns show how even the **first layer** of BERT begins organizing language:\n",
        "- **Some heads memorize position** or **identity**,  \n",
        "- Others build **early syntactic or phrasal relationships**,  \n",
        "- And some prepare **global summaries** for later use.\n",
        "\n",
        "\n",
        "### 🧠 Key Takeaways — Layer 5 Attention Patterns (Final Layer)\n",
        "\n",
        "In the **last layer** of xtremedistil BERT, attention heads become much more **specialized** and **focused**. They're no longer just preserving structure — they're identifying **key semantic cues** to prepare for downstream tasks like classification or question answering.\n",
        "\n",
        "Here’s how the heads in Layer 5 cluster based on behavior:\n",
        "\n",
        "#### 🔹 **Sentence Anchor / Special Token Focus**\n",
        "Heads that allocate strong attention to sentence-level structural tokens like `[CLS]`, `[SEP]`, or function words.\n",
        "- **Head 0** – Attends to `[CLS]`, `[SEP]`, and mid-sentence context tokens like `movie`, `was`, `surprisingly`, `good`.  \n",
        "- **Head 2** – Balanced across `[CLS]`, `[SEP]`, `was`, `it`, `the`.  \n",
        "- **Head 6** – Strong triple focus on `[CLS]` and `the`, possibly re-centering `[CLS]`.  \n",
        "- **Head 7** – Mostly attends to `was`, but `[CLS]` and `[SEP]` get notable attention too.\n",
        "\n",
        "📌 *Interpretation*: These heads likely support **global summarization**, or feed context to the `[CLS]` token for sentence-level prediction.\n",
        "\n",
        "#### 🔸 **Sentiment Phrase Heads**\n",
        "These heads focus on important **semantic cues or emotional words** in the sentence.\n",
        "- **Head 1** – Attends strongly to `surprisingly`, `good`, `really`, and `enjoyed`.  \n",
        "- **Head 3** – Focuses tightly on `surprisingly` and `was`.  \n",
        "- **Head 5** – Almost exclusively focuses on `was`.\n",
        "\n",
        "📌 *Interpretation*: These heads appear to **lock on to sentiment-bearing phrases**, which is crucial for tasks like **sentiment analysis** or **emotion classification**.\n",
        "\n",
        "#### 🔻 **Token-Level Detail Spreaders**\n",
        "Heads that distribute attention across punctuation, function words, and syntax markers — possibly for fine control.\n",
        "- **Head 4** – Favors tokens like `the`, `movie`, `i`, `it`, punctuation (`,`, `.`).  \n",
        "📌 *Interpretation*: This head may be balancing **token-level refinement** before final decoding, especially for syntactic normalization.\n",
        "\n",
        "### 🎓 Final Note\n",
        "\n",
        "> While Layer 0 built structure and flow, Layer 5 **refines meaning** and consolidates relevance.\n",
        "\n",
        "- **[CLS] is now dominant**, indicating readiness for classification tasks.  \n",
        "- **Key content words** like `good`, `enjoyed`, and `surprisingly` are getting priority.\n",
        "- There's **less uniformity** — each head has its own role in encoding final semantics.\n",
        "\n",
        "This is exactly what we expect from the **last layer of BERT** — every head is now highly **purpose-driven**.\n",
        "\n",
        "\n",
        "--- \n",
        "\n",
        "## 2 🛠 Fine-Tuning BERT on IMDB: Impact on Attention\n",
        "\n",
        "Now that we've seen how a pretrained model distributes attention, the big question is:\n",
        "\n",
        "> **How does attention change when we fine-tune the model for a specific task?**\n",
        "\n",
        "### 🎯 Objective\n",
        "\n",
        "In this section, we will:\n",
        "\n",
        "1. **Fine-tune only the last attention layer** (plus a small classifier head) on the **IMDB sentiment classification dataset**.\n",
        "2. Freeze all other weights — this way, any change in behavior must come from the last attention block and classifier.\n",
        "3. After training, we’ll **re-run attention visualizations** for a test sentence and **compare them to the original pretrained version**.\n",
        "\n",
        "This will help us answer:\n",
        "- Which heads adapt to focus more on sentiment-bearing words?\n",
        "- Does `[CLS]` become more dominant or refined?\n",
        "- Are certain heads re-purposed for the task?\n",
        "\n",
        "Let’s start by loading the IMDB dataset."
      ]
    },
    {
      "cell_type": "code",
      "execution_count": null,
      "metadata": {},
      "outputs": [
        {
          "data": {
            "application/vnd.jupyter.widget-view+json": {
              "model_id": "afd5e2c3844c4a91ae1e71c84bb83e18",
              "version_major": 2,
              "version_minor": 0
            },
            "text/plain": [
              "README.md: 0.00B [00:00, ?B/s]"
            ]
          },
          "metadata": {},
          "output_type": "display_data"
        },
        {
          "name": "stderr",
          "output_type": "stream",
          "text": [
            "c:\\Users\\evren\\anaconda3\\envs\\planckteam\\Lib\\site-packages\\huggingface_hub\\file_download.py:143: UserWarning: `huggingface_hub` cache-system uses symlinks by default to efficiently store duplicated files but your machine does not support them in C:\\Users\\evren\\.cache\\huggingface\\hub\\datasets--imdb. Caching files will still work but in a degraded version that might require more space on your disk. This warning can be disabled by setting the `HF_HUB_DISABLE_SYMLINKS_WARNING` environment variable. For more details, see https://huggingface.co/docs/huggingface_hub/how-to-cache#limitations.\n",
            "To support symlinks on Windows, you either need to activate Developer Mode or to run Python as an administrator. In order to activate developer mode, see this article: https://docs.microsoft.com/en-us/windows/apps/get-started/enable-your-device-for-development\n",
            "  warnings.warn(message)\n"
          ]
        },
        {
          "data": {
            "application/vnd.jupyter.widget-view+json": {
              "model_id": "9f4bea69e3d9465d80b6c9c7343fe0e3",
              "version_major": 2,
              "version_minor": 0
            },
            "text/plain": [
              "train-00000-of-00001.parquet:   0%|          | 0.00/21.0M [00:00<?, ?B/s]"
            ]
          },
          "metadata": {},
          "output_type": "display_data"
        },
        {
          "data": {
            "application/vnd.jupyter.widget-view+json": {
              "model_id": "808999dba0df4b9a87df582539870bda",
              "version_major": 2,
              "version_minor": 0
            },
            "text/plain": [
              "test-00000-of-00001.parquet:   0%|          | 0.00/20.5M [00:00<?, ?B/s]"
            ]
          },
          "metadata": {},
          "output_type": "display_data"
        },
        {
          "data": {
            "application/vnd.jupyter.widget-view+json": {
              "model_id": "46c5e64c3d8d4d90b6984d7033f9c4a5",
              "version_major": 2,
              "version_minor": 0
            },
            "text/plain": [
              "unsupervised-00000-of-00001.parquet:   0%|          | 0.00/42.0M [00:00<?, ?B/s]"
            ]
          },
          "metadata": {},
          "output_type": "display_data"
        },
        {
          "data": {
            "application/vnd.jupyter.widget-view+json": {
              "model_id": "33a3e8ba081b4f84a89e2fe50d1ee238",
              "version_major": 2,
              "version_minor": 0
            },
            "text/plain": [
              "Generating train split:   0%|          | 0/25000 [00:00<?, ? examples/s]"
            ]
          },
          "metadata": {},
          "output_type": "display_data"
        },
        {
          "data": {
            "application/vnd.jupyter.widget-view+json": {
              "model_id": "12bc9038ca1f4453b1161c54c8814d55",
              "version_major": 2,
              "version_minor": 0
            },
            "text/plain": [
              "Generating test split:   0%|          | 0/25000 [00:00<?, ? examples/s]"
            ]
          },
          "metadata": {},
          "output_type": "display_data"
        },
        {
          "data": {
            "application/vnd.jupyter.widget-view+json": {
              "model_id": "475648759087499a8eda5e726ab5bbde",
              "version_major": 2,
              "version_minor": 0
            },
            "text/plain": [
              "Generating unsupervised split:   0%|          | 0/50000 [00:00<?, ? examples/s]"
            ]
          },
          "metadata": {},
          "output_type": "display_data"
        },
        {
          "name": "stdout",
          "output_type": "stream",
          "text": [
            "{'text': 'There is no relation at all between Fortier and Profiler but the fact that both are police series about violent crimes. Profiler looks crispy, Fortier looks classic. Profiler plots are quite simple. Fortier\\'s plot are far more complicated... Fortier looks more like Prime Suspect, if we have to spot similarities... The main character is weak and weirdo, but have \"clairvoyance\". People like to compare, to judge, to evaluate. How about just enjoying? Funny thing too, people writing Fortier looks American but, on the other hand, arguing they prefer American series (!!!). Maybe it\\'s the language, or the spirit, but I think this series is more English than American. By the way, the actors are really good and funny. The acting is not superficial at all...', 'label': 1}\n"
          ]
        }
      ],
      "source": [
        "# Step 1: Load IMDB dataset\n",
        "\n",
        "from datasets import load_dataset\n",
        "\n",
        "# We'll just use a small portion to keep things quick and interpretable\n",
        "imdb = load_dataset(\"imdb\")\n",
        "small_train = imdb[\"train\"].shuffle(seed=42).select(range(2000))\n",
        "small_test = imdb[\"test\"].shuffle(seed=42).select(range(500))\n",
        "\n",
        "# Display a sample\n",
        "print(small_train[0])"
      ]
    },
    {
      "cell_type": "markdown",
      "metadata": {},
      "source": [
        "### 🧼 Step 2: Tokenization and Batching\n",
        "\n",
        "Now that we’ve loaded the IMDB dataset, let’s preprocess the data for BERT input.\n",
        "\n",
        "#### 📋 Key Preprocessing Choices:\n",
        "- **Tokenizer**: We use the same `xtremedistil` tokenizer to keep consistency with the model.\n",
        "- **Truncation**: Reviews are truncated to **64 tokens** for speed and memory efficiency.\n",
        "- **Padding**: Handled dynamically per batch using Hugging Face's `DataCollatorWithPadding`.\n",
        "- **Batched format**: All data is returned as PyTorch tensors for compatibility with the model and training loop.\n",
        "\n",
        "We then create **PyTorch DataLoaders** that will serve batches to the model during training and evaluation."
      ]
    },
    {
      "cell_type": "code",
      "execution_count": null,
      "metadata": {},
      "outputs": [
        {
          "data": {
            "application/vnd.jupyter.widget-view+json": {
              "model_id": "39854f4de25f44108739e7d98e345968",
              "version_major": 2,
              "version_minor": 0
            },
            "text/plain": [
              "Map:   0%|          | 0/2000 [00:00<?, ? examples/s]"
            ]
          },
          "metadata": {},
          "output_type": "display_data"
        },
        {
          "data": {
            "application/vnd.jupyter.widget-view+json": {
              "model_id": "63c88cb4afcc4bd794d272c68cb77510",
              "version_major": 2,
              "version_minor": 0
            },
            "text/plain": [
              "Map:   0%|          | 0/500 [00:00<?, ? examples/s]"
            ]
          },
          "metadata": {},
          "output_type": "display_data"
        },
        {
          "name": "stdout",
          "output_type": "stream",
          "text": [
            "{'input_ids': torch.Size([16, 64]), 'attention_mask': torch.Size([16, 64]), 'labels': torch.Size([16])}\n"
          ]
        }
      ],
      "source": [
        "# Step 2: Tokenization & Dataloader setup\n",
        "\n",
        "from transformers import DataCollatorWithPadding\n",
        "from torch.utils.data import DataLoader\n",
        "\n",
        "def tokenize_fn(batch):\n",
        "    return tokenizer(batch[\"text\"], truncation=True, padding=True, max_length=64)\n",
        "\n",
        "# Apply tokenization\n",
        "tokenized_train = small_train.map(tokenize_fn, batched=True)\n",
        "tokenized_test  = small_test.map(tokenize_fn, batched=True)\n",
        "\n",
        "# Set format for PyTorch\n",
        "tokenized_train.set_format(type=\"torch\", columns=[\"input_ids\", \"attention_mask\", \"label\"])\n",
        "tokenized_test.set_format(type=\"torch\", columns=[\"input_ids\", \"attention_mask\", \"label\"])\n",
        "\n",
        "# Dynamic padding for batches\n",
        "collator = DataCollatorWithPadding(tokenizer=tokenizer, return_tensors=\"pt\")\n",
        "\n",
        "# Dataloaders\n",
        "train_loader = DataLoader(tokenized_train, batch_size=16, shuffle=True, collate_fn=collator)\n",
        "test_loader  = DataLoader(tokenized_test, batch_size=16, shuffle=False, collate_fn=collator)\n",
        "\n",
        "# Peek at one batch\n",
        "batch = next(iter(train_loader))\n",
        "print({k: v.shape for k, v in batch.items()})"
      ]
    },
    {
      "cell_type": "markdown",
      "metadata": {},
      "source": [
        "### 🧠 Step 3: Freezing BERT & Adding a Classifier on Top\n",
        "\n",
        "We now prepare our model for **fine-tuning**.\n",
        "\n",
        "#### 🎯 Objective:\n",
        "We want to **only fine-tune the last attention layer and a classifier head**. Why?\n",
        "\n",
        "- Lower BERT layers already capture general syntax and semantics.\n",
        "- The **last layer** can adapt to the sentiment task (IMDB) by adjusting how tokens attend to each other.\n",
        "- This setup lets us **observe how attention patterns change** due to fine-tuning.\n",
        "\n",
        "#### 🏗 What We’ll Do:\n",
        "1. Load the same `xtremedistil` BERT model with attention outputs.\n",
        "2. **Freeze all layers except Layer 5 (the last one)**.\n",
        "3. Add a **[CLS]-based classifier** (simple linear layer).\n",
        "4. Build a custom model class that returns both predictions and attention weights."
      ]
    },
    {
      "cell_type": "code",
      "execution_count": null,
      "metadata": {},
      "outputs": [],
      "source": [
        "# Step 3: Custom model that freezes all but last attention layer\n",
        "\n",
        "from transformers import AutoModel\n",
        "import torch.nn as nn\n",
        "\n",
        "class BertWithLastLayerAttentionClassifier(nn.Module):\n",
        "    def __init__(self, model_name, num_classes=2):\n",
        "        super().__init__()\n",
        "        self.bert = AutoModel.from_pretrained(model_name, output_attentions=True)\n",
        "        \n",
        "        # Freeze all layers except the last encoder layer\n",
        "        for name, param in self.bert.named_parameters():\n",
        "            # Only unfreeze Layer 5 and classifier\n",
        "            if \"encoder.layer.5\" not in name and \"pooler\" not in name:\n",
        "                param.requires_grad = False\n",
        "        \n",
        "        # Classification head on [CLS]\n",
        "        self.classifier = nn.Linear(self.bert.config.hidden_size, num_classes)\n",
        "\n",
        "    def forward(self, input_ids, attention_mask):\n",
        "        # Get hidden states and attention maps\n",
        "        outputs = self.bert(input_ids=input_ids,\n",
        "                            attention_mask=attention_mask,\n",
        "                            output_attentions=True)\n",
        "        \n",
        "        last_hidden_state = outputs.last_hidden_state  # (batch, seq_len, hidden)\n",
        "        cls_embedding = last_hidden_state[:, 0, :]     # Take [CLS] token representation\n",
        "        logits = self.classifier(cls_embedding)        # Binary classification logits\n",
        "\n",
        "        return logits, outputs.attentions  # Also return attention weights\n",
        "\n",
        "model_name = \"microsoft/xtremedistil-l6-h256-uncased\"\n",
        "finetune_model = BertWithLastLayerAttentionClassifier(model_name)\n"
      ]
    },
    {
      "cell_type": "markdown",
      "metadata": {},
      "source": [
        "### 🏋️ Step 4: Training the Model (Only Last Layer + Classifier)\n",
        "\n",
        "Now that our model is set up to fine-tune **only the last attention layer and the classifier**, we’ll define the training loop.\n",
        "\n",
        "#### 🧪 What We’ll Do:\n",
        "1. Use **cross-entropy loss** for binary classification (IMDB: positive vs. negative).\n",
        "2. Track accuracy during training and validation.\n",
        "3. Use `AdamW` optimizer — designed for transformer architectures.\n",
        "4. Train for a few epochs to observe how the model adapts.\n",
        "\n",
        "Since we are fine-tuning only a small number of parameters, **training is faster** and lets us isolate the **effect of attention change** during learning."
      ]
    },
    {
      "cell_type": "code",
      "execution_count": null,
      "metadata": {},
      "outputs": [
        {
          "data": {
            "application/vnd.jupyter.widget-view+json": {
              "model_id": "97057b3436c94507aff96c29438554a6",
              "version_major": 2,
              "version_minor": 0
            },
            "text/plain": [
              "Epoch 1:   0%|          | 0/125 [00:00<?, ?it/s]"
            ]
          },
          "metadata": {},
          "output_type": "display_data"
        },
        {
          "name": "stdout",
          "output_type": "stream",
          "text": [
            "Train Loss: 0.6896, Train Accuracy: 0.5345\n",
            "Val Loss: 0.6774, Val Accuracy: 0.5664\n"
          ]
        },
        {
          "data": {
            "application/vnd.jupyter.widget-view+json": {
              "model_id": "5e9506b5b709495d850252b70ad63f5c",
              "version_major": 2,
              "version_minor": 0
            },
            "text/plain": [
              "Epoch 2:   0%|          | 0/125 [00:00<?, ?it/s]"
            ]
          },
          "metadata": {},
          "output_type": "display_data"
        },
        {
          "name": "stdout",
          "output_type": "stream",
          "text": [
            "Train Loss: 0.6716, Train Accuracy: 0.5980\n",
            "Val Loss: 0.6627, Val Accuracy: 0.5645\n"
          ]
        },
        {
          "data": {
            "application/vnd.jupyter.widget-view+json": {
              "model_id": "b7dba86307c644e3bc7fa1aa681ea43e",
              "version_major": 2,
              "version_minor": 0
            },
            "text/plain": [
              "Epoch 3:   0%|          | 0/125 [00:00<?, ?it/s]"
            ]
          },
          "metadata": {},
          "output_type": "display_data"
        },
        {
          "name": "stdout",
          "output_type": "stream",
          "text": [
            "Train Loss: 0.6550, Train Accuracy: 0.6130\n",
            "Val Loss: 0.6287, Val Accuracy: 0.6445\n"
          ]
        },
        {
          "data": {
            "application/vnd.jupyter.widget-view+json": {
              "model_id": "d3a3b955bc114ded83a41d34aa648fc5",
              "version_major": 2,
              "version_minor": 0
            },
            "text/plain": [
              "Epoch 4:   0%|          | 0/125 [00:00<?, ?it/s]"
            ]
          },
          "metadata": {},
          "output_type": "display_data"
        },
        {
          "name": "stdout",
          "output_type": "stream",
          "text": [
            "Train Loss: 0.6370, Train Accuracy: 0.6435\n",
            "Val Loss: 0.6276, Val Accuracy: 0.6367\n"
          ]
        },
        {
          "data": {
            "application/vnd.jupyter.widget-view+json": {
              "model_id": "e92b0f29b9a547848bc7f11df30ad7b1",
              "version_major": 2,
              "version_minor": 0
            },
            "text/plain": [
              "Epoch 5:   0%|          | 0/125 [00:00<?, ?it/s]"
            ]
          },
          "metadata": {},
          "output_type": "display_data"
        },
        {
          "name": "stdout",
          "output_type": "stream",
          "text": [
            "Train Loss: 0.6234, Train Accuracy: 0.6445\n",
            "Val Loss: 0.6087, Val Accuracy: 0.6797\n"
          ]
        },
        {
          "data": {
            "application/vnd.jupyter.widget-view+json": {
              "model_id": "528957430d174c638a3ab839e160af42",
              "version_major": 2,
              "version_minor": 0
            },
            "text/plain": [
              "Epoch 6:   0%|          | 0/125 [00:00<?, ?it/s]"
            ]
          },
          "metadata": {},
          "output_type": "display_data"
        },
        {
          "name": "stdout",
          "output_type": "stream",
          "text": [
            "Train Loss: 0.6020, Train Accuracy: 0.6735\n",
            "Val Loss: 0.5966, Val Accuracy: 0.6875\n"
          ]
        },
        {
          "data": {
            "application/vnd.jupyter.widget-view+json": {
              "model_id": "eab4fba3bbe14a119c65848792584105",
              "version_major": 2,
              "version_minor": 0
            },
            "text/plain": [
              "Epoch 7:   0%|          | 0/125 [00:00<?, ?it/s]"
            ]
          },
          "metadata": {},
          "output_type": "display_data"
        },
        {
          "name": "stdout",
          "output_type": "stream",
          "text": [
            "Train Loss: 0.5871, Train Accuracy: 0.6945\n",
            "Val Loss: 0.5738, Val Accuracy: 0.6934\n"
          ]
        },
        {
          "data": {
            "application/vnd.jupyter.widget-view+json": {
              "model_id": "88d6f6f786dc486494980e084351d9c9",
              "version_major": 2,
              "version_minor": 0
            },
            "text/plain": [
              "Epoch 8:   0%|          | 0/125 [00:00<?, ?it/s]"
            ]
          },
          "metadata": {},
          "output_type": "display_data"
        },
        {
          "name": "stdout",
          "output_type": "stream",
          "text": [
            "Train Loss: 0.5804, Train Accuracy: 0.6940\n",
            "Val Loss: 0.5553, Val Accuracy: 0.7090\n"
          ]
        },
        {
          "data": {
            "application/vnd.jupyter.widget-view+json": {
              "model_id": "612dc2c03d09412bb2a714f7f6ead83a",
              "version_major": 2,
              "version_minor": 0
            },
            "text/plain": [
              "Epoch 9:   0%|          | 0/125 [00:00<?, ?it/s]"
            ]
          },
          "metadata": {},
          "output_type": "display_data"
        },
        {
          "name": "stdout",
          "output_type": "stream",
          "text": [
            "Train Loss: 0.5713, Train Accuracy: 0.6970\n",
            "Val Loss: 0.5975, Val Accuracy: 0.6875\n"
          ]
        },
        {
          "data": {
            "application/vnd.jupyter.widget-view+json": {
              "model_id": "afce093ae0054f6cbd7024305a1b9e2e",
              "version_major": 2,
              "version_minor": 0
            },
            "text/plain": [
              "Epoch 10:   0%|          | 0/125 [00:00<?, ?it/s]"
            ]
          },
          "metadata": {},
          "output_type": "display_data"
        },
        {
          "name": "stdout",
          "output_type": "stream",
          "text": [
            "Train Loss: 0.5651, Train Accuracy: 0.7090\n",
            "Val Loss: 0.5606, Val Accuracy: 0.7129\n"
          ]
        }
      ],
      "source": [
        "# Step 4: Training setup\n",
        "\n",
        "import torch\n",
        "import torch.nn as nn\n",
        "from torch.optim import AdamW\n",
        "from tqdm.notebook import tqdm\n",
        "\n",
        "device = torch.device(\"cuda\" if torch.cuda.is_available() else \"cpu\")\n",
        "finetune_model.to(device)\n",
        "\n",
        "# Loss and optimizer\n",
        "loss_fn = nn.CrossEntropyLoss()\n",
        "optimizer = AdamW(filter(lambda p: p.requires_grad, finetune_model.parameters()), lr=2e-5)\n",
        "\n",
        "# Accuracy function\n",
        "def compute_accuracy(preds, labels):\n",
        "    return (preds.argmax(dim=1) == labels).float().mean().item()\n",
        "\n",
        "# Training loop\n",
        "def train_model(model, train_loader, test_loader, epochs=10):\n",
        "    for epoch in range(epochs):\n",
        "        model.train()\n",
        "        total_loss, total_acc = 0, 0\n",
        "        \n",
        "        for batch in tqdm(train_loader, desc=f\"Epoch {epoch+1}\"):\n",
        "            input_ids = batch[\"input_ids\"].to(device)\n",
        "            attention_mask = batch[\"attention_mask\"].to(device)\n",
        "            \n",
        "            # Check if label key exists, otherwise check for labels\n",
        "            if \"label\" in batch:\n",
        "                labels = batch[\"label\"].to(device)\n",
        "            elif \"labels\" in batch:\n",
        "                labels = batch[\"labels\"].to(device)\n",
        "            else:\n",
        "                raise KeyError(\"No label found in batch. Make sure your dataset includes 'label' or 'labels' field.\")\n",
        "\n",
        "            optimizer.zero_grad()\n",
        "            logits, _ = model(input_ids, attention_mask)\n",
        "            loss = loss_fn(logits, labels)\n",
        "            loss.backward()\n",
        "            optimizer.step()\n",
        "\n",
        "            total_loss += loss.item()\n",
        "            total_acc += compute_accuracy(logits, labels)\n",
        "\n",
        "        avg_loss = total_loss / len(train_loader)\n",
        "        avg_acc = total_acc / len(train_loader)\n",
        "        print(f\"Train Loss: {avg_loss:.4f}, Train Accuracy: {avg_acc:.4f}\")\n",
        "\n",
        "        # Evaluation\n",
        "        model.eval()\n",
        "        with torch.no_grad():\n",
        "            val_loss, val_acc = 0, 0\n",
        "            for batch in test_loader:\n",
        "                input_ids = batch[\"input_ids\"].to(device)\n",
        "                attention_mask = batch[\"attention_mask\"].to(device)\n",
        "                \n",
        "                # Check if label key exists, otherwise check for labels\n",
        "                if \"label\" in batch:\n",
        "                    labels = batch[\"label\"].to(device)\n",
        "                elif \"labels\" in batch:\n",
        "                    labels = batch[\"labels\"].to(device)\n",
        "                else:\n",
        "                    raise KeyError(\"No label found in batch. Make sure your dataset includes 'label' or 'labels' field.\")\n",
        "\n",
        "                logits, _ = model(input_ids, attention_mask)\n",
        "                loss = loss_fn(logits, labels)\n",
        "\n",
        "                val_loss += loss.item()\n",
        "                val_acc += compute_accuracy(logits, labels)\n",
        "\n",
        "        avg_val_loss = val_loss / len(test_loader)\n",
        "        avg_val_acc = val_acc / len(test_loader)\n",
        "        print(f\"Val Loss: {avg_val_loss:.4f}, Val Accuracy: {avg_val_acc:.4f}\")\n",
        "\n",
        "# Run training\n",
        "train_model(finetune_model, train_loader, test_loader, epochs=10)\n"
      ]
    },
    {
      "cell_type": "markdown",
      "metadata": {},
      "source": [
        "### 🔍 Step 5: Visualizing Post-Fine-Tuning Attention (Layer 5)\n",
        "\n",
        "Now comes the most insightful part of this notebook:  \n",
        "> **How has attention changed after fine-tuning?**\n",
        "\n",
        "We will:\n",
        "\n",
        "1. Pass a test sentence through the **fine-tuned model**.\n",
        "2. Extract **attention weights from Layer 5** (the only layer we allowed to change).\n",
        "3. Compare this with the attention patterns we saw **before fine-tuning**.\n",
        "4. Interpret how the model’s focus has shifted — especially around sentiment-bearing words.\n",
        "\n",
        "This will help us understand how BERT adapts attention when trained for a specific task (like sentiment classification).\n"
      ]
    },
    {
      "cell_type": "code",
      "execution_count": null,
      "metadata": {},
      "outputs": [],
      "source": [
        "def get_attention_from_finetuned(model, sentence):\n",
        "    inputs = tokenizer(sentence, return_tensors=\"pt\")\n",
        "    \n",
        "    # Remove token_type_ids if present since the model doesn't expect it\n",
        "    if 'token_type_ids' in inputs:\n",
        "        inputs.pop('token_type_ids')\n",
        "    \n",
        "    inputs = {k: v.to(device) for k, v in inputs.items()}\n",
        "    \n",
        "    with torch.no_grad():\n",
        "        logits, attentions = model(**inputs)\n",
        "    \n",
        "    token_list = tokenizer.convert_ids_to_tokens(inputs[\"input_ids\"][0])\n",
        "    return attentions[-1][0].cpu(), token_list\n",
        "\n",
        "attention_fine_tune, tokens = get_attention_from_finetuned(finetune_model, sentence)"
      ]
    },
    {
      "cell_type": "markdown",
      "metadata": {},
      "source": [
        "Let’s now visualize all 8 attention heads in **Layer 5** after fine-tuning.\n",
        "This will help us see if:\n",
        "- `[CLS]` has gained stronger focus (for classification)\n",
        "- Heads now better lock on to sentiment cues like `good`, `enjoyed`, or `surprisingly`\n"
      ]
    },
    {
      "cell_type": "code",
      "execution_count": null,
      "metadata": {},
      "outputs": [
        {
          "name": "stderr",
          "output_type": "stream",
          "text": [
            "C:\\Users\\evren\\AppData\\Local\\Temp\\ipykernel_58652\\1305395018.py:27: UserWarning: This figure includes Axes that are not compatible with tight_layout, so results might be incorrect.\n",
            "  plt.tight_layout(rect=[0, 0, 0.9, 0.95])\n"
          ]
        },
        {
          "data": {
            "image/png": "[encoded data removed]",
            "text/plain": [
              "<Figure size 1600x600 with 9 Axes>"
            ]
          },
          "metadata": {},
          "output_type": "display_data"
        },
        {
          "name": "stderr",
          "output_type": "stream",
          "text": [
            "C:\\Users\\evren\\AppData\\Local\\Temp\\ipykernel_58652\\1305395018.py:27: UserWarning: This figure includes Axes that are not compatible with tight_layout, so results might be incorrect.\n",
            "  plt.tight_layout(rect=[0, 0, 0.9, 0.95])\n"
          ]
        },
        {
          "data": {
            "image/png": "[encoded data removed]",
            "text/plain": [
              "<Figure size 1600x600 with 9 Axes>"
            ]
          },
          "metadata": {},
          "output_type": "display_data"
        }
      ],
      "source": [
        "# Reuse our visualization tool from earlier\n",
        "\n",
        "def plot_heads_after_finetuning(tokens, attn_layer, after=True):\n",
        "    import matplotlib.pyplot as plt\n",
        "    import seaborn as sns\n",
        "    import numpy as np\n",
        "\n",
        "    num_heads = attn_layer.shape[0]\n",
        "    fig, axes = plt.subplots(nrows=int(np.ceil(num_heads/4)), ncols=min(4, num_heads),\n",
        "                             figsize=(16, 3*int(np.ceil(num_heads/4))))\n",
        "    axes = axes.flatten()\n",
        "\n",
        "    for i in range(num_heads):\n",
        "        sns.heatmap(attn_layer[i].numpy(), xticklabels=tokens, yticklabels=tokens,\n",
        "                    cmap=\"viridis\", ax=axes[i], cbar=False)\n",
        "        axes[i].set_title(f\"Head {i}\")\n",
        "        axes[i].set_xticklabels(axes[i].get_xticklabels(), rotation=90)\n",
        "        axes[i].set_yticklabels(axes[i].get_yticklabels(), rotation=0)\n",
        "\n",
        "    cbar_ax = fig.add_axes([0.92, 0.15, 0.02, 0.7])\n",
        "    fig.colorbar(axes[0].collections[0], cax=cbar_ax)\n",
        "\n",
        "    if after:\n",
        "        plt.suptitle(\"Layer 5 Attention Heads (After Fine-Tuning)\", fontsize=16)\n",
        "    else:\n",
        "        plt.suptitle(\"Layer 5 Attention Heads (Before Fine-Tuning)\", fontsize=16)\n",
        "    plt.tight_layout(rect=[0, 0, 0.9, 0.95])\n",
        "    plt.show()\n",
        "\n",
        "# Run visualization\n",
        "plot_heads_after_finetuning(tokens, attentions[-1][0], after=False)\n",
        "plot_heads_after_finetuning(tokens, attention_fine_tune, after=True)"
      ]
    },
    {
      "cell_type": "markdown",
      "metadata": {},
      "source": [
        "### 🧠 Key Takeaways — Layer 5 Attention Changes After Fine-Tuning\n",
        "\n",
        "Here’s a head-by-head comparison showing how attention patterns **evolved** after fine-tuning BERT on the IMDB sentiment classification task.\n",
        "\n",
        "---\n",
        "\n",
        "#### 🔸 **Head 0**  \n",
        "- **Before**: Attended broadly to `[CLS]`, `[SEP]`, and mid-sentence tokens like `movie`, `was`, `surprisingly`, `good`.  \n",
        "- **After**: Much sharper, **heavily focuses on `was`, `movie`, `surprisingly`, and `good`** — clear sentiment alignment.\n",
        "\n",
        "---\n",
        "\n",
        "#### 🔸 **Head 1**  \n",
        "- **Before**: Focused on `surprisingly`, `good`, `really`, and `enjoyed`.  \n",
        "- **After**: Refined and intensified — now strongly attends to **`surprisingly`, `good`, and `enjoyed`**, with minor focus on `movie` and `really`.\n",
        "\n",
        "---\n",
        "\n",
        "#### 🔸 **Head 2**  \n",
        "- **Before**: Fairly balanced — attention spread across `[CLS]`, `[SEP]`, `was`, `it`, and `the`.  \n",
        "- **After**: Dramatically simplified — now **focuses almost entirely on `was`**, indicating task-specific tuning.\n",
        "\n",
        "---\n",
        "\n",
        "#### 🔸 **Head 3**  \n",
        "- **Before**: Narrow focus on `surprisingly` and `was`.  \n",
        "- **After**: almost **Unchanged** — maintains sharp focus on `surprisingly` and `was`.\n",
        "\n",
        "---\n",
        "\n",
        "#### 🔸 **Head 4**  \n",
        "- **Before**: Attended to structure words like `the`, `movie`, `i`, `it`, and punctuation.  \n",
        "- **After**: **More diffuse**, with slightly increased focus toward the **end of the sentence**.\n",
        "\n",
        "---\n",
        "\n",
        "#### 🔸 **Head 5**  \n",
        "- **Before**: Focused nearly exclusively on `was`.  \n",
        "- **After**: Still strong on `was`, but now adds meaningful attention to **`good`** — sentiment refinement.\n",
        "\n",
        "---\n",
        "\n",
        "#### 🔸 **Head 6**  \n",
        "- **Before**: Emphasis on `[CLS]` and `the`, possibly for sentence-wide summary.  \n",
        "- **After**: **Shifts focus to the beginning** (`[CLS]`, `the`, `movie`) and **last token** — suggesting stronger **sentence boundary modeling**.\n",
        "\n",
        "---\n",
        "\n",
        "#### 🔸 **Head 7**  \n",
        "- **Before**: Primary attention on `was`, with some spread to `[CLS]` and `[SEP]`.  \n",
        "- **After**: Tightens up — now mostly targets **`was` and `good`**.\n",
        "\n",
        "---\n",
        "\n",
        "### 📌 Summary\n",
        "\n",
        "- Attention after fine-tuning is more **task-specific**, **concentrated**, and **semantic-aware**.\n",
        "- Sentiment-rich words (`good`, `enjoyed`, `surprisingly`) receive **much stronger focus**.\n",
        "- `[CLS]` becomes more strategically attended to in certain heads (for classification).\n",
        "- Some heads **specialize**, while others broaden slightly to **reinforce sentence structure**.\n",
        "\n",
        "These changes reflect how attention is **actively re-learned** to support a new task — in this case, **sentiment classification**.\n",
        "\n",
        "## ✅ Conclusion — What We Learned About Attention in BERT\n",
        "\n",
        "Over the course of this notebook, we’ve taken a **deep dive into BERT’s attention mechanism**, starting from raw pretrained behavior all the way to its adaptation through fine-tuning.\n",
        "\n",
        "---\n",
        "\n",
        "### 🔍 What We Did\n",
        "\n",
        "1. **Visualized raw attention** across all heads in Layer 0 and Layer 5 of `xtremedistil` BERT.\n",
        "   - Layer 0: Showed basic structural patterns like self-attention, previous/next token focus.\n",
        "   - Layer 5: Began to specialize — focusing on `[CLS]`, sentiment phrases like `good`, `enjoyed`.\n",
        "\n",
        "2. **Fine-tuned only the last attention layer + a classifier** on IMDB sentiment data.\n",
        "   - All other weights were frozen.\n",
        "   - Training was fast and interpretable.\n",
        "\n",
        "3. **Visualized Layer 5 again after fine-tuning** to inspect what changed.\n",
        "\n",
        "---\n",
        "\n",
        "### 🧠 What We Learned\n",
        "\n",
        "- ✅ **Attention is task-aware**: After fine-tuning, heads shifted focus toward words like `good`, `enjoyed`, `surprisingly` — all sentiment-laden tokens.\n",
        "- ✅ **[CLS] gets re-prioritized**: Many heads increased attention to `[CLS]` after training — a crucial move since it's used for sentence-level prediction.\n",
        "- ✅ **Head specialization improves**: Some heads become tightly focused, others maintain structure — supporting both meaning and form.\n",
        "- ✅ **Interpretability is possible**: By visualizing and tracking attention, we can understand what the model “cares about” during learning.\n",
        "\n",
        "---\n",
        "\n",
        "### 🎓 Takeaway\n",
        "\n",
        "> BERT isn't just a black box.  \n",
        "> Its attention patterns reflect real linguistic and semantic structure —  \n",
        "> and those patterns evolve as it learns specific tasks.\n",
        "\n",
        "With the right tools and a bit of curiosity, **we can peek inside the model** and watch it think."
      ]
    },
    {
      "cell_type": "code",
      "execution_count": null,
      "metadata": {},
      "outputs": [],
      "source": []
    },
    {
      "cell_type": "code",
      "execution_count": null,
      "metadata": {},
      "outputs": [],
      "source": []
    },
    {
      "cell_type": "code",
      "execution_count": null,
      "metadata": {},
      "outputs": [],
      "source": []
    }
  ],
  "metadata": {
    "kernelspec": {
      "display_name": "planckteam",
      "language": "python",
      "name": "python3"
    },
    "language_info": {
      "codemirror_mode": {
        "name": "ipython",
        "version": 3
      },
      "file_extension": ".py",
      "mimetype": "text/x-python",
      "name": "python",
      "nbconvert_exporter": "python",
      "pygments_lexer": "ipython3",
      "version": "3.13.5"
    }
  },
  "nbformat": 4,
  "nbformat_minor": 2
}
